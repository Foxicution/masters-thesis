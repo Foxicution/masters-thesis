{
 "cells": [
  {
   "cell_type": "code",
   "execution_count": 2,
   "metadata": {},
   "outputs": [
    {
     "data": {
      "text/plain": [
       "<Response [200]>"
      ]
     },
     "execution_count": 2,
     "metadata": {},
     "output_type": "execute_result"
    }
   ],
   "source": [
    "from requests import get\n",
    "\n",
    "response = get(\"https://api.github.com/search/repositories?q=python+language:python&sort=stars\")\n",
    "response"
   ]
  },
  {
   "cell_type": "code",
   "execution_count": 4,
   "metadata": {},
   "outputs": [],
   "source": [
    "import json\n",
    "from masters_thesis.definitions import REPO_SEARCH_PATH\n",
    "\n",
    "with open(REPO_SEARCH_PATH, \"w\") as f:\n",
    "    json.dump(response.json(), f, indent=2)"
   ]
  },
  {
   "cell_type": "code",
   "execution_count": 5,
   "metadata": {},
   "outputs": [
    {
     "data": {
      "text/plain": [
       "{'id': 21289110,\n",
       " 'node_id': 'MDEwOlJlcG9zaXRvcnkyMTI4OTExMA==',\n",
       " 'name': 'awesome-python',\n",
       " 'full_name': 'vinta/awesome-python',\n",
       " 'private': False,\n",
       " 'owner': {'login': 'vinta',\n",
       "  'id': 652070,\n",
       "  'node_id': 'MDQ6VXNlcjY1MjA3MA==',\n",
       "  'avatar_url': 'https://avatars.githubusercontent.com/u/652070?v=4',\n",
       "  'gravatar_id': '',\n",
       "  'url': 'https://api.github.com/users/vinta',\n",
       "  'html_url': 'https://github.com/vinta',\n",
       "  'followers_url': 'https://api.github.com/users/vinta/followers',\n",
       "  'following_url': 'https://api.github.com/users/vinta/following{/other_user}',\n",
       "  'gists_url': 'https://api.github.com/users/vinta/gists{/gist_id}',\n",
       "  'starred_url': 'https://api.github.com/users/vinta/starred{/owner}{/repo}',\n",
       "  'subscriptions_url': 'https://api.github.com/users/vinta/subscriptions',\n",
       "  'organizations_url': 'https://api.github.com/users/vinta/orgs',\n",
       "  'repos_url': 'https://api.github.com/users/vinta/repos',\n",
       "  'events_url': 'https://api.github.com/users/vinta/events{/privacy}',\n",
       "  'received_events_url': 'https://api.github.com/users/vinta/received_events',\n",
       "  'type': 'User',\n",
       "  'site_admin': False},\n",
       " 'html_url': 'https://github.com/vinta/awesome-python',\n",
       " 'description': 'A curated list of awesome Python frameworks, libraries, software and resources',\n",
       " 'fork': False,\n",
       " 'url': 'https://api.github.com/repos/vinta/awesome-python',\n",
       " 'forks_url': 'https://api.github.com/repos/vinta/awesome-python/forks',\n",
       " 'keys_url': 'https://api.github.com/repos/vinta/awesome-python/keys{/key_id}',\n",
       " 'collaborators_url': 'https://api.github.com/repos/vinta/awesome-python/collaborators{/collaborator}',\n",
       " 'teams_url': 'https://api.github.com/repos/vinta/awesome-python/teams',\n",
       " 'hooks_url': 'https://api.github.com/repos/vinta/awesome-python/hooks',\n",
       " 'issue_events_url': 'https://api.github.com/repos/vinta/awesome-python/issues/events{/number}',\n",
       " 'events_url': 'https://api.github.com/repos/vinta/awesome-python/events',\n",
       " 'assignees_url': 'https://api.github.com/repos/vinta/awesome-python/assignees{/user}',\n",
       " 'branches_url': 'https://api.github.com/repos/vinta/awesome-python/branches{/branch}',\n",
       " 'tags_url': 'https://api.github.com/repos/vinta/awesome-python/tags',\n",
       " 'blobs_url': 'https://api.github.com/repos/vinta/awesome-python/git/blobs{/sha}',\n",
       " 'git_tags_url': 'https://api.github.com/repos/vinta/awesome-python/git/tags{/sha}',\n",
       " 'git_refs_url': 'https://api.github.com/repos/vinta/awesome-python/git/refs{/sha}',\n",
       " 'trees_url': 'https://api.github.com/repos/vinta/awesome-python/git/trees{/sha}',\n",
       " 'statuses_url': 'https://api.github.com/repos/vinta/awesome-python/statuses/{sha}',\n",
       " 'languages_url': 'https://api.github.com/repos/vinta/awesome-python/languages',\n",
       " 'stargazers_url': 'https://api.github.com/repos/vinta/awesome-python/stargazers',\n",
       " 'contributors_url': 'https://api.github.com/repos/vinta/awesome-python/contributors',\n",
       " 'subscribers_url': 'https://api.github.com/repos/vinta/awesome-python/subscribers',\n",
       " 'subscription_url': 'https://api.github.com/repos/vinta/awesome-python/subscription',\n",
       " 'commits_url': 'https://api.github.com/repos/vinta/awesome-python/commits{/sha}',\n",
       " 'git_commits_url': 'https://api.github.com/repos/vinta/awesome-python/git/commits{/sha}',\n",
       " 'comments_url': 'https://api.github.com/repos/vinta/awesome-python/comments{/number}',\n",
       " 'issue_comment_url': 'https://api.github.com/repos/vinta/awesome-python/issues/comments{/number}',\n",
       " 'contents_url': 'https://api.github.com/repos/vinta/awesome-python/contents/{+path}',\n",
       " 'compare_url': 'https://api.github.com/repos/vinta/awesome-python/compare/{base}...{head}',\n",
       " 'merges_url': 'https://api.github.com/repos/vinta/awesome-python/merges',\n",
       " 'archive_url': 'https://api.github.com/repos/vinta/awesome-python/{archive_format}{/ref}',\n",
       " 'downloads_url': 'https://api.github.com/repos/vinta/awesome-python/downloads',\n",
       " 'issues_url': 'https://api.github.com/repos/vinta/awesome-python/issues{/number}',\n",
       " 'pulls_url': 'https://api.github.com/repos/vinta/awesome-python/pulls{/number}',\n",
       " 'milestones_url': 'https://api.github.com/repos/vinta/awesome-python/milestones{/number}',\n",
       " 'notifications_url': 'https://api.github.com/repos/vinta/awesome-python/notifications{?since,all,participating}',\n",
       " 'labels_url': 'https://api.github.com/repos/vinta/awesome-python/labels{/name}',\n",
       " 'releases_url': 'https://api.github.com/repos/vinta/awesome-python/releases{/id}',\n",
       " 'deployments_url': 'https://api.github.com/repos/vinta/awesome-python/deployments',\n",
       " 'created_at': '2014-06-27T21:00:06Z',\n",
       " 'updated_at': '2023-06-05T18:02:21Z',\n",
       " 'pushed_at': '2023-06-03T07:48:27Z',\n",
       " 'git_url': 'git://github.com/vinta/awesome-python.git',\n",
       " 'ssh_url': 'git@github.com:vinta/awesome-python.git',\n",
       " 'clone_url': 'https://github.com/vinta/awesome-python.git',\n",
       " 'svn_url': 'https://github.com/vinta/awesome-python',\n",
       " 'homepage': 'https://awesome-python.com/',\n",
       " 'size': 6728,\n",
       " 'stargazers_count': 170159,\n",
       " 'watchers_count': 170159,\n",
       " 'language': 'Python',\n",
       " 'has_issues': False,\n",
       " 'has_projects': False,\n",
       " 'has_downloads': True,\n",
       " 'has_wiki': False,\n",
       " 'has_pages': True,\n",
       " 'has_discussions': False,\n",
       " 'forks_count': 23276,\n",
       " 'mirror_url': None,\n",
       " 'archived': False,\n",
       " 'disabled': False,\n",
       " 'open_issues_count': 354,\n",
       " 'license': {'key': 'other',\n",
       "  'name': 'Other',\n",
       "  'spdx_id': 'NOASSERTION',\n",
       "  'url': None,\n",
       "  'node_id': 'MDc6TGljZW5zZTA='},\n",
       " 'allow_forking': True,\n",
       " 'is_template': False,\n",
       " 'web_commit_signoff_required': False,\n",
       " 'topics': ['awesome',\n",
       "  'collections',\n",
       "  'python',\n",
       "  'python-framework',\n",
       "  'python-library',\n",
       "  'python-resources'],\n",
       " 'visibility': 'public',\n",
       " 'forks': 23276,\n",
       " 'open_issues': 354,\n",
       " 'watchers': 170159,\n",
       " 'default_branch': 'master',\n",
       " 'score': 1.0}"
      ]
     },
     "execution_count": 5,
     "metadata": {},
     "output_type": "execute_result"
    }
   ],
   "source": [
    "response.json()['items'][0]"
   ]
  }
 ],
 "metadata": {
  "kernelspec": {
   "display_name": ".venv",
   "language": "python",
   "name": "python3"
  },
  "language_info": {
   "codemirror_mode": {
    "name": "ipython",
    "version": 3
   },
   "file_extension": ".py",
   "mimetype": "text/x-python",
   "name": "python",
   "nbconvert_exporter": "python",
   "pygments_lexer": "ipython3",
   "version": "3.10.10"
  },
  "orig_nbformat": 4
 },
 "nbformat": 4,
 "nbformat_minor": 2
}
